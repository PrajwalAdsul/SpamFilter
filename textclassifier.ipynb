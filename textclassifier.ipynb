{
 "cells": [
  {
   "cell_type": "code",
   "execution_count": 20,
   "metadata": {},
   "outputs": [],
   "source": [
    "import sys\n",
    "import pandas as pd\n",
    "import numpy as np\n",
    "import nltk\n",
    "import sklearn\n"
   ]
  },
  {
   "cell_type": "code",
   "execution_count": 22,
   "metadata": {},
   "outputs": [
    {
     "name": "stdout",
     "output_type": "stream",
     "text": [
      "<class 'pandas.core.frame.DataFrame'>\n",
      "RangeIndex: 5572 entries, 0 to 5571\n",
      "Data columns (total 2 columns):\n",
      "Type    5572 non-null object\n",
      "sms     5572 non-null object\n",
      "dtypes: object(2)\n",
      "memory usage: 87.1+ KB\n",
      "None\n",
      "   Type                                                sms\n",
      "0   ham  Go until jurong point, crazy.. Available only ...\n",
      "1   ham                      Ok lar... Joking wif u oni...\n",
      "2  spam  Free entry in 2 a wkly comp to win FA Cup fina...\n",
      "3   ham  U dun say so early hor... U c already then say...\n",
      "4   ham  Nah I don't think he goes to usf, he lives aro...\n"
     ]
    }
   ],
   "source": [
    "#Loading the sms dataset\n",
    "df = pd.read_csv('SMSSPamCollection.tsv.txt', sep='\\t', names=[\"Type\", \"sms\"])\n",
    "print(df.info())\n",
    "print(df.head())\n"
   ]
  },
  {
   "cell_type": "code",
   "execution_count": 63,
   "metadata": {},
   "outputs": [
    {
     "name": "stdout",
     "output_type": "stream",
     "text": [
      "        Type                     sms\n",
      "count   5572                    5572\n",
      "unique     2                    5169\n",
      "top      ham  Sorry, I'll call later\n",
      "freq    4825                      30\n",
      "--------------\n",
      "ham     4825\n",
      "spam     747\n",
      "Name: Type, dtype: int64\n"
     ]
    }
   ],
   "source": [
    "#Checking class distribution\n",
    "#print(df.describe())\n",
    "print(df.describe(include='all'))\n",
    "print('--------------')\n",
    "type = df['Type']\n",
    "print(df['Type'].value_counts())\n"
   ]
  },
  {
   "cell_type": "code",
   "execution_count": 65,
   "metadata": {},
   "outputs": [
    {
     "name": "stdout",
     "output_type": "stream",
     "text": [
      "[0 0 1 0 0 1 0 0 1 1]\n"
     ]
    }
   ],
   "source": [
    "#Preprocessing data\n",
    "\n",
    "from sklearn.preprocessing import LabelEncoder\n",
    "#Converting ham and spam values to 0 and 1 \n",
    "encoder = LabelEncoder()\n",
    "Y = encoder.fit_transform(type)\n",
    "print(Y[:10])\n"
   ]
  },
  {
   "cell_type": "code",
   "execution_count": 69,
   "metadata": {},
   "outputs": [
    {
     "name": "stdout",
     "output_type": "stream",
     "text": [
      "0    Go until jurong point, crazy.. Available only ...\n",
      "1                        Ok lar... Joking wif u oni...\n",
      "2    Free entry in 2 a wkly comp to win FA Cup fina...\n",
      "3    U dun say so early hor... U c already then say...\n",
      "4    Nah I don't think he goes to usf, he lives aro...\n",
      "5    FreeMsg Hey there darling it's been 3 week's n...\n",
      "6    Even my brother is not like to speak with me. ...\n",
      "7    As per your request 'Melle Melle (Oru Minnamin...\n",
      "8    WINNER!! As a valued network customer you have...\n",
      "9    Had your mobile 11 months or more? U R entitle...\n",
      "Name: sms, dtype: object\n"
     ]
    }
   ],
   "source": [
    "# Storing sms data in another dataframe\n",
    "\n",
    "messages = df['sms']\n",
    "print(messages[:10])"
   ]
  },
  {
   "cell_type": "code",
   "execution_count": 71,
   "metadata": {},
   "outputs": [],
   "source": [
    "# Need to replace email addresses, URLs, numbers, etc in the text \n",
    "# so it can have some meaning rather than being a separate instance\n",
    "# of itself\n",
    "\n",
    "#will do this regular expressions\n",
    "# http://regexlib.com\n",
    "\n",
    "#Replacing email ids with 'emailid'\n",
    "processed = messages.str.replace(r'^.+@[^\\.].*\\.[a-z]{2,}$','emailid')\n",
    "\n",
    "#Replacing URLs with 'webaddr'\n",
    "processed = processed.str.replace(r'^http\\://[a-zA-Z0-9\\-\\.]+\\.[a-zA-Z]{2,3}(/\\S*)?$','webaddr')\n",
    "\n",
    "#Replacing money symbols with 'moneysymbol' \n",
    "processed = processed.str.replace(r'£|\\$|\\₹', 'moneysymb')\n",
    "\n",
    "#Replacing 10digit phone numbers \n",
    "processed = processed.str.replace(r'^\\(?[\\d]{3}\\)?[\\s-]?[\\d]{3}[\\s-]?[\\d]{4}$','phonenum')\n",
    "\n",
    "#Replacing any numbers (digits)\n",
    "processed = processed.str.replace(r'\\d+(\\.\\d+)?', 'num')"
   ]
  },
  {
   "cell_type": "code",
   "execution_count": null,
   "metadata": {},
   "outputs": [],
   "source": []
  }
 ],
 "metadata": {
  "kernelspec": {
   "display_name": "Python 3",
   "language": "python",
   "name": "python3"
  }
 },
 "nbformat": 4,
 "nbformat_minor": 2
}
